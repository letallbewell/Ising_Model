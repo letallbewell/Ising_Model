{
  "cells": [
    {
      "cell_type": "code",
      "execution_count": 1,
      "id": "30ca8720-a5f1-4d03-8909-e3af63e4a1c0",
      "metadata": {
        "id": "30ca8720-a5f1-4d03-8909-e3af63e4a1c0",
        "outputId": "0b7e86ee-f1ec-433d-becc-82d11041a858",
        "colab": {
          "base_uri": "https://localhost:8080/"
        }
      },
      "outputs": [
        {
          "output_type": "stream",
          "name": "stdout",
          "text": [
            "Looking in indexes: https://pypi.org/simple, https://us-python.pkg.dev/colab-wheels/public/simple/\n",
            "Collecting tensornetwork\n",
            "  Downloading tensornetwork-0.4.6-py3-none-any.whl (364 kB)\n",
            "\u001b[2K     \u001b[90m━━━━━━━━━━━━━━━━━━━━━━━━━━━━━━━━━━━━━━━\u001b[0m \u001b[32m364.3/364.3 KB\u001b[0m \u001b[31m3.9 MB/s\u001b[0m eta \u001b[36m0:00:00\u001b[0m\n",
            "\u001b[?25hRequirement already satisfied: scipy>=1.1 in /usr/local/lib/python3.8/dist-packages (from tensornetwork) (1.7.3)\n",
            "Collecting graphviz>=0.11.1\n",
            "  Downloading graphviz-0.20.1-py3-none-any.whl (47 kB)\n",
            "\u001b[2K     \u001b[90m━━━━━━━━━━━━━━━━━━━━━━━━━━━━━━━━━━━━━━━━\u001b[0m \u001b[32m47.0/47.0 KB\u001b[0m \u001b[31m2.1 MB/s\u001b[0m eta \u001b[36m0:00:00\u001b[0m\n",
            "\u001b[?25hRequirement already satisfied: h5py>=2.9.0 in /usr/local/lib/python3.8/dist-packages (from tensornetwork) (3.1.0)\n",
            "Requirement already satisfied: opt-einsum>=2.3.0 in /usr/local/lib/python3.8/dist-packages (from tensornetwork) (3.3.0)\n",
            "Requirement already satisfied: numpy>=1.17 in /usr/local/lib/python3.8/dist-packages (from tensornetwork) (1.21.6)\n",
            "Installing collected packages: graphviz, tensornetwork\n",
            "  Attempting uninstall: graphviz\n",
            "    Found existing installation: graphviz 0.10.1\n",
            "    Uninstalling graphviz-0.10.1:\n",
            "      Successfully uninstalled graphviz-0.10.1\n",
            "Successfully installed graphviz-0.20.1 tensornetwork-0.4.6\n"
          ]
        }
      ],
      "source": [
        "! pip install tensornetwork"
      ]
    },
    {
      "cell_type": "code",
      "execution_count": 2,
      "id": "c9d42ab7-5a5b-4a38-945c-4323ca61b746",
      "metadata": {
        "id": "c9d42ab7-5a5b-4a38-945c-4323ca61b746"
      },
      "outputs": [],
      "source": [
        "import tensornetwork as tn\n",
        "\n",
        "import numpy as np\n",
        "from scipy.linalg import sqrtm\n",
        "import matplotlib.pyplot as plt\n",
        "from tqdm.auto import tqdm\n",
        "\n",
        "Tc = 2/np.log(1 + np.sqrt(2))\n",
        "tn.set_default_backend(\"numpy\")"
      ]
    },
    {
      "cell_type": "code",
      "execution_count": null,
      "id": "b5e775a9-230d-4345-8177-a26991d8ffe6",
      "metadata": {
        "id": "b5e775a9-230d-4345-8177-a26991d8ffe6"
      },
      "outputs": [],
      "source": []
    },
    {
      "cell_type": "code",
      "execution_count": 3,
      "id": "9e422db8-f49f-4cbf-84e7-822b0124e6eb",
      "metadata": {
        "id": "9e422db8-f49f-4cbf-84e7-822b0124e6eb"
      },
      "outputs": [],
      "source": [
        "def find_Z(beta, N=8):\n",
        "    \n",
        "    S = np.array([[np.exp(beta), np.exp(-beta)], [np.exp(-beta), np.exp(beta)]])\n",
        "    S_root = sqrtm(S)\n",
        "    T = np.einsum('ia,ib,ic,id->abcd', S_root, S_root, S_root, S_root)\n",
        "\n",
        "    nodes = {}\n",
        "\n",
        "    for i in range(N):\n",
        "        for j in range(N):\n",
        "            nodes[f'{i},{j}'] = tn.Node(name=f'{i},{j}', tensor=T,\n",
        "                                       axis_names=['right', 'top',\n",
        "                                                   'left', 'bottom'])\n",
        "    for i in range(N):\n",
        "        for j in range(N):\n",
        "            # horizontal edges\n",
        "            tn.connect(nodes[f'{i},{j}'].get_edge(0),\n",
        "                       nodes[f'{(i+1)%N},{j}'].get_edge(2))\n",
        "            #vertical edges\n",
        "            tn.connect(nodes[f'{i},{j}'].get_edge(1),\n",
        "                       nodes[f'{i},{(j+1)%N}'].get_edge(3))\n",
        "            \n",
        "    Z = tn.contractors.auto(list(nodes.values()))\n",
        "    \n",
        "    return Z.tensor.item()"
      ]
    },
    {
      "cell_type": "code",
      "execution_count": 6,
      "id": "48762363-c079-4ab8-a4cf-597abc304235",
      "metadata": {
        "id": "48762363-c079-4ab8-a4cf-597abc304235",
        "outputId": "f61071b9-46fa-4ee1-aa4d-e44b94ff4e3f",
        "colab": {
          "base_uri": "https://localhost:8080/",
          "height": 49,
          "referenced_widgets": [
            "3301b0cdeaba49e2aae5bd274c5f1823",
            "26ff147edda44576a8f9b2c4b202eb01",
            "b40f1cc04494498081a2a01bb42a2ca1",
            "4ab22028ca6041f7b539d73880998110",
            "7338a61aed9545d48cf9e01b4b3e761e",
            "da1a158015064146b5a1c83c5c51d30e",
            "33620ab323f84386a1b37d009d1503cd",
            "217d69e6ff314d859328a0ce3405e80d",
            "03bcc6da2406465ba1c85c18c280402c",
            "951590288f434021b27078686799842c",
            "80cd15b781824f2fa338238475ac8c75"
          ]
        }
      },
      "outputs": [
        {
          "output_type": "display_data",
          "data": {
            "text/plain": [
              "  0%|          | 0/32 [00:00<?, ?it/s]"
            ],
            "application/vnd.jupyter.widget-view+json": {
              "version_major": 2,
              "version_minor": 0,
              "model_id": "3301b0cdeaba49e2aae5bd274c5f1823"
            }
          },
          "metadata": {}
        }
      ],
      "source": [
        "N = 8\n",
        "\n",
        "Ts = np.linspace(1.5, 3.5, 32) # Tc ~ 2.5 for N = Infinity lattice.\n",
        "betas = 1/Ts\n",
        "# betas = np.linspace(0.25, 1, 32)\n",
        "\n",
        "Zs = []\n",
        "\n",
        "for beta in tqdm(betas):\n",
        "    Z = find_Z(beta, N)\n",
        "    Zs.append(Z)"
      ]
    },
    {
      "cell_type": "code",
      "execution_count": 8,
      "id": "86148303-58ea-4eb6-a885-ba4500aee5c1",
      "metadata": {
        "id": "86148303-58ea-4eb6-a885-ba4500aee5c1",
        "outputId": "bd00fa0f-43a1-4524-8206-e8deebb5b9b6",
        "colab": {
          "base_uri": "https://localhost:8080/",
          "height": 295
        }
      },
      "outputs": [
        {
          "output_type": "display_data",
          "data": {
            "text/plain": [
              "<Figure size 432x288 with 1 Axes>"
            ],
            "image/png": "[encoded data removed]"
          },
          "metadata": {
            "needs_background": "light"
          }
        }
      ],
      "source": [
        "ln_Zs = np.log(Zs)\n",
        "\n",
        "Fs = -Ts * ln_Zs/ (N**2)\n",
        "plt.plot(Ts, Fs, c='k');\n",
        "plt.title('Free Energy');\n",
        "plt.xlabel('T');\n",
        "plt.ylabel('F');\n",
        "plt.savefig('Free energy.jpg')"
      ]
    },
    {
      "cell_type": "code",
      "execution_count": null,
      "id": "8441435d-6208-4fe5-a815-c785d5d91997",
      "metadata": {
        "id": "8441435d-6208-4fe5-a815-c785d5d91997"
      },
      "outputs": [],
      "source": []
    },
    {
      "cell_type": "code",
      "execution_count": null,
      "id": "a5ef9074-bc5a-4222-8d5a-79903f52b209",
      "metadata": {
        "id": "a5ef9074-bc5a-4222-8d5a-79903f52b209"
      },
      "outputs": [],
      "source": []
    },
    {
      "cell_type": "code",
      "execution_count": null,
      "id": "90e7a6fb-229d-4372-99bf-d75789f98807",
      "metadata": {
        "id": "90e7a6fb-229d-4372-99bf-d75789f98807"
      },
      "outputs": [],
      "source": []
    },
    {
      "cell_type": "code",
      "execution_count": null,
      "id": "60a442e0-4785-4ca4-883c-f6ac29e56da3",
      "metadata": {
        "id": "60a442e0-4785-4ca4-883c-f6ac29e56da3"
      },
      "outputs": [],
      "source": []
    },
    {
      "cell_type": "code",
      "execution_count": 11,
      "id": "8ec8183f-3dff-4cb4-9daa-54c6f173052a",
      "metadata": {
        "id": "8ec8183f-3dff-4cb4-9daa-54c6f173052a",
        "outputId": "7783c2be-08d4-4016-accd-13dac1b08f71",
        "colab": {
          "base_uri": "https://localhost:8080/",
          "height": 310
        }
      },
      "outputs": [
        {
          "output_type": "display_data",
          "data": {
            "text/plain": [
              "<Figure size 864x288 with 2 Axes>"
            ],
            "image/png": "[encoded data removed]"
          },
          "metadata": {
            "needs_background": "light"
          }
        }
      ],
      "source": [
        "\n",
        "# Energy\n",
        "dln_Z_d_beta = [(ln_Zs[i+1]-ln_Zs[i])/(betas[i+1]-betas[i])\n",
        "                 for i in range(ln_Zs.shape[0]-1)]\n",
        "dln_Z_d_beta = np.array(dln_Z_d_beta)/N**2\n",
        "E = -dln_Z_d_beta\n",
        "\n",
        "# Specific heat\n",
        "dln_Z_d2 = [(dln_Z_d_beta[i+1]-dln_Z_d_beta[i])/(betas[i+1]-betas[i])\n",
        "           for i in range(dln_Z_d_beta.shape[0]-1)]\n",
        "dln_Z_d2 = np.array(dln_Z_d2)\n",
        "Delta_E2 = dln_Z_d2\n",
        "C =  Delta_E2/Ts[2:]**2\n",
        "\n",
        "Ts = 1/betas\n",
        "\n",
        "f = plt.figure(figsize=(12, 4)); #  \n",
        "\n",
        "f.add_subplot(1,2,1);\n",
        "plt.scatter(Ts[1:], E, c='k', s=5)\n",
        "plt.axvline(x=Tc, c='k', linewidth=1, linestyle='--')\n",
        "plt.annotate(r'$T = T_c$', xy=(Tc+0.05,np.min(E)), fontsize=10);\n",
        "plt.xlabel(r'$ T $')\n",
        "plt.ylabel(r'$ \\langle E \\rangle $');\n",
        "plt.title('Energy');\n",
        "\n",
        "f.add_subplot(1,2,2);\n",
        "plt.scatter(Ts[2:], C, c='k', s=5)\n",
        "plt.axvline(x=Tc, c='k', linewidth=1, linestyle='--')\n",
        "plt.annotate(r'$T = T_c$', xy=(Tc+0.05,np.min(C)), fontsize=10);\n",
        "plt.xlabel(r'$ T $')\n",
        "plt.ylabel(r'$ C_{v} $');\n",
        "plt.title('Specific heat capacity');\n",
        "\n",
        "plt.suptitle('Tensor Networks and Numerical Derivative');\n",
        "plt.savefig('TN E and C.jpg')"
      ]
    },
    {
      "cell_type": "code",
      "execution_count": null,
      "id": "b9ef4b6e-24a1-4208-9770-07cf110dba85",
      "metadata": {
        "id": "b9ef4b6e-24a1-4208-9770-07cf110dba85"
      },
      "outputs": [],
      "source": []
    }
  ],
  "metadata": {
    "kernelspec": {
      "display_name": "Python 3 (ipykernel)",
      "language": "python",
      "name": "python3"
    },
    "language_info": {
      "codemirror_mode": {
        "name": "ipython",
        "version": 3
      },
      "file_extension": ".py",
      "mimetype": "text/x-python",
      "name": "python",
      "nbconvert_exporter": "python",
      "pygments_lexer": "ipython3",
      "version": "3.8.8"
    },
    "colab": {
      "provenance": []
    },
    "widgets": {
      "application/vnd.jupyter.widget-state+json": {
        "3301b0cdeaba49e2aae5bd274c5f1823": {
          "model_module": "@jupyter-widgets/controls",
          "model_name": "HBoxModel",
          "model_module_version": "1.5.0",
          "state": {
            "_dom_classes": [],
            "_model_module": "@jupyter-widgets/controls",
            "_model_module_version": "1.5.0",
            "_model_name": "HBoxModel",
            "_view_count": null,
            "_view_module": "@jupyter-widgets/controls",
            "_view_module_version": "1.5.0",
            "_view_name": "HBoxView",
            "box_style": "",
            "children": [
              "IPY_MODEL_26ff147edda44576a8f9b2c4b202eb01",
              "IPY_MODEL_b40f1cc04494498081a2a01bb42a2ca1",
              "IPY_MODEL_4ab22028ca6041f7b539d73880998110"
            ],
            "layout": "IPY_MODEL_7338a61aed9545d48cf9e01b4b3e761e"
          }
        },
        "26ff147edda44576a8f9b2c4b202eb01": {
          "model_module": "@jupyter-widgets/controls",
          "model_name": "HTMLModel",
          "model_module_version": "1.5.0",
          "state": {
            "_dom_classes": [],
            "_model_module": "@jupyter-widgets/controls",
            "_model_module_version": "1.5.0",
            "_model_name": "HTMLModel",
            "_view_count": null,
            "_view_module": "@jupyter-widgets/controls",
            "_view_module_version": "1.5.0",
            "_view_name": "HTMLView",
            "description": "",
            "description_tooltip": null,
            "layout": "IPY_MODEL_da1a158015064146b5a1c83c5c51d30e",
            "placeholder": "​",
            "style": "IPY_MODEL_33620ab323f84386a1b37d009d1503cd",
            "value": "100%"
          }
        },
        "b40f1cc04494498081a2a01bb42a2ca1": {
          "model_module": "@jupyter-widgets/controls",
          "model_name": "FloatProgressModel",
          "model_module_version": "1.5.0",
          "state": {
            "_dom_classes": [],
            "_model_module": "@jupyter-widgets/controls",
            "_model_module_version": "1.5.0",
            "_model_name": "FloatProgressModel",
            "_view_count": null,
            "_view_module": "@jupyter-widgets/controls",
            "_view_module_version": "1.5.0",
            "_view_name": "ProgressView",
            "bar_style": "success",
            "description": "",
            "description_tooltip": null,
            "layout": "IPY_MODEL_217d69e6ff314d859328a0ce3405e80d",
            "max": 32,
            "min": 0,
            "orientation": "horizontal",
            "style": "IPY_MODEL_03bcc6da2406465ba1c85c18c280402c",
            "value": 32
          }
        },
        "4ab22028ca6041f7b539d73880998110": {
          "model_module": "@jupyter-widgets/controls",
          "model_name": "HTMLModel",
          "model_module_version": "1.5.0",
          "state": {
            "_dom_classes": [],
            "_model_module": "@jupyter-widgets/controls",
            "_model_module_version": "1.5.0",
            "_model_name": "HTMLModel",
            "_view_count": null,
            "_view_module": "@jupyter-widgets/controls",
            "_view_module_version": "1.5.0",
            "_view_name": "HTMLView",
            "description": "",
            "description_tooltip": null,
            "layout": "IPY_MODEL_951590288f434021b27078686799842c",
            "placeholder": "​",
            "style": "IPY_MODEL_80cd15b781824f2fa338238475ac8c75",
            "value": " 32/32 [00:09&lt;00:00,  3.91it/s]"
          }
        },
        "7338a61aed9545d48cf9e01b4b3e761e": {
          "model_module": "@jupyter-widgets/base",
          "model_name": "LayoutModel",
          "model_module_version": "1.2.0",
          "state": {
            "_model_module": "@jupyter-widgets/base",
            "_model_module_version": "1.2.0",
            "_model_name": "LayoutModel",
            "_view_count": null,
            "_view_module": "@jupyter-widgets/base",
            "_view_module_version": "1.2.0",
            "_view_name": "LayoutView",
            "align_content": null,
            "align_items": null,
            "align_self": null,
            "border": null,
            "bottom": null,
            "display": null,
            "flex": null,
            "flex_flow": null,
            "grid_area": null,
            "grid_auto_columns": null,
            "grid_auto_flow": null,
            "grid_auto_rows": null,
            "grid_column": null,
            "grid_gap": null,
            "grid_row": null,
            "grid_template_areas": null,
            "grid_template_columns": null,
            "grid_template_rows": null,
            "height": null,
            "justify_content": null,
            "justify_items": null,
            "left": null,
            "margin": null,
            "max_height": null,
            "max_width": null,
            "min_height": null,
            "min_width": null,
            "object_fit": null,
            "object_position": null,
            "order": null,
            "overflow": null,
            "overflow_x": null,
            "overflow_y": null,
            "padding": null,
            "right": null,
            "top": null,
            "visibility": null,
            "width": null
          }
        },
        "da1a158015064146b5a1c83c5c51d30e": {
          "model_module": "@jupyter-widgets/base",
          "model_name": "LayoutModel",
          "model_module_version": "1.2.0",
          "state": {
            "_model_module": "@jupyter-widgets/base",
            "_model_module_version": "1.2.0",
            "_model_name": "LayoutModel",
            "_view_count": null,
            "_view_module": "@jupyter-widgets/base",
            "_view_module_version": "1.2.0",
            "_view_name": "LayoutView",
            "align_content": null,
            "align_items": null,
            "align_self": null,
            "border": null,
            "bottom": null,
            "display": null,
            "flex": null,
            "flex_flow": null,
            "grid_area": null,
            "grid_auto_columns": null,
            "grid_auto_flow": null,
            "grid_auto_rows": null,
            "grid_column": null,
            "grid_gap": null,
            "grid_row": null,
            "grid_template_areas": null,
            "grid_template_columns": null,
            "grid_template_rows": null,
            "height": null,
            "justify_content": null,
            "justify_items": null,
            "left": null,
            "margin": null,
            "max_height": null,
            "max_width": null,
            "min_height": null,
            "min_width": null,
            "object_fit": null,
            "object_position": null,
            "order": null,
            "overflow": null,
            "overflow_x": null,
            "overflow_y": null,
            "padding": null,
            "right": null,
            "top": null,
            "visibility": null,
            "width": null
          }
        },
        "33620ab323f84386a1b37d009d1503cd": {
          "model_module": "@jupyter-widgets/controls",
          "model_name": "DescriptionStyleModel",
          "model_module_version": "1.5.0",
          "state": {
            "_model_module": "@jupyter-widgets/controls",
            "_model_module_version": "1.5.0",
            "_model_name": "DescriptionStyleModel",
            "_view_count": null,
            "_view_module": "@jupyter-widgets/base",
            "_view_module_version": "1.2.0",
            "_view_name": "StyleView",
            "description_width": ""
          }
        },
        "217d69e6ff314d859328a0ce3405e80d": {
          "model_module": "@jupyter-widgets/base",
          "model_name": "LayoutModel",
          "model_module_version": "1.2.0",
          "state": {
            "_model_module": "@jupyter-widgets/base",
            "_model_module_version": "1.2.0",
            "_model_name": "LayoutModel",
            "_view_count": null,
            "_view_module": "@jupyter-widgets/base",
            "_view_module_version": "1.2.0",
            "_view_name": "LayoutView",
            "align_content": null,
            "align_items": null,
            "align_self": null,
            "border": null,
            "bottom": null,
            "display": null,
            "flex": null,
            "flex_flow": null,
            "grid_area": null,
            "grid_auto_columns": null,
            "grid_auto_flow": null,
            "grid_auto_rows": null,
            "grid_column": null,
            "grid_gap": null,
            "grid_row": null,
            "grid_template_areas": null,
            "grid_template_columns": null,
            "grid_template_rows": null,
            "height": null,
            "justify_content": null,
            "justify_items": null,
            "left": null,
            "margin": null,
            "max_height": null,
            "max_width": null,
            "min_height": null,
            "min_width": null,
            "object_fit": null,
            "object_position": null,
            "order": null,
            "overflow": null,
            "overflow_x": null,
            "overflow_y": null,
            "padding": null,
            "right": null,
            "top": null,
            "visibility": null,
            "width": null
          }
        },
        "03bcc6da2406465ba1c85c18c280402c": {
          "model_module": "@jupyter-widgets/controls",
          "model_name": "ProgressStyleModel",
          "model_module_version": "1.5.0",
          "state": {
            "_model_module": "@jupyter-widgets/controls",
            "_model_module_version": "1.5.0",
            "_model_name": "ProgressStyleModel",
            "_view_count": null,
            "_view_module": "@jupyter-widgets/base",
            "_view_module_version": "1.2.0",
            "_view_name": "StyleView",
            "bar_color": null,
            "description_width": ""
          }
        },
        "951590288f434021b27078686799842c": {
          "model_module": "@jupyter-widgets/base",
          "model_name": "LayoutModel",
          "model_module_version": "1.2.0",
          "state": {
            "_model_module": "@jupyter-widgets/base",
            "_model_module_version": "1.2.0",
            "_model_name": "LayoutModel",
            "_view_count": null,
            "_view_module": "@jupyter-widgets/base",
            "_view_module_version": "1.2.0",
            "_view_name": "LayoutView",
            "align_content": null,
            "align_items": null,
            "align_self": null,
            "border": null,
            "bottom": null,
            "display": null,
            "flex": null,
            "flex_flow": null,
            "grid_area": null,
            "grid_auto_columns": null,
            "grid_auto_flow": null,
            "grid_auto_rows": null,
            "grid_column": null,
            "grid_gap": null,
            "grid_row": null,
            "grid_template_areas": null,
            "grid_template_columns": null,
            "grid_template_rows": null,
            "height": null,
            "justify_content": null,
            "justify_items": null,
            "left": null,
            "margin": null,
            "max_height": null,
            "max_width": null,
            "min_height": null,
            "min_width": null,
            "object_fit": null,
            "object_position": null,
            "order": null,
            "overflow": null,
            "overflow_x": null,
            "overflow_y": null,
            "padding": null,
            "right": null,
            "top": null,
            "visibility": null,
            "width": null
          }
        },
        "80cd15b781824f2fa338238475ac8c75": {
          "model_module": "@jupyter-widgets/controls",
          "model_name": "DescriptionStyleModel",
          "model_module_version": "1.5.0",
          "state": {
            "_model_module": "@jupyter-widgets/controls",
            "_model_module_version": "1.5.0",
            "_model_name": "DescriptionStyleModel",
            "_view_count": null,
            "_view_module": "@jupyter-widgets/base",
            "_view_module_version": "1.2.0",
            "_view_name": "StyleView",
            "description_width": ""
          }
        }
      }
    }
  },
  "nbformat": 4,
  "nbformat_minor": 5
}