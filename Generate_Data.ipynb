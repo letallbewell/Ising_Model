{
  "cells": [
    {
      "cell_type": "code",
      "execution_count": 6,
      "id": "eac9835c-794e-4ae2-b5b2-db6ead27e1fb",
      "metadata": {
        "id": "eac9835c-794e-4ae2-b5b2-db6ead27e1fb"
      },
      "outputs": [],
      "source": [
        "import numpy as np\n",
        "from numpy.random import rand\n",
        "np.random.seed(0)\n",
        "\n",
        "import matplotlib.pyplot as plt\n",
        "from matplotlib.pyplot import figure\n",
        "plt.rcParams['text.usetex'] = True\n",
        "\n",
        "from IPython.display import clear_output\n",
        "\n",
        "from tqdm.auto import tqdm, trange\n",
        "\n",
        "from Ising import IsingLattice"
      ]
    },
    {
      "cell_type": "code",
      "execution_count": 7,
      "id": "f3a9cd42-35f7-46c9-841b-51fdba33ded3",
      "metadata": {
        "id": "f3a9cd42-35f7-46c9-841b-51fdba33ded3"
      },
      "outputs": [],
      "source": [
        "Tc = 2 / np.log(1 + np.sqrt(2)) # Critical temperature for the inifinite system\n",
        "                                # Onsager's solution"
      ]
    },
    {
      "cell_type": "code",
      "execution_count": 8,
      "id": "ca11c736-1aaf-452a-82bd-5a270dbbcb39",
      "metadata": {
        "tags": [],
        "id": "ca11c736-1aaf-452a-82bd-5a270dbbcb39",
        "outputId": "73b7e3a9-c242-433c-e2cb-6e3264473907",
        "colab": {
          "base_uri": "https://localhost:8080/",
          "height": 49,
          "referenced_widgets": [
            "4443df3ee57c4b8d87ee152006ec15f8",
            "24aee59d817f4be497fc0dd2e0a63c3e",
            "2f4723de4bae47d8a86232dbabf73a85",
            "1275a1b2c0d64d94847522f3351d7a8c",
            "468653191ca042c28fc96bce4c3503f2",
            "ed77de9948a54a92a18eb8a2d9f96b6e",
            "7927026b7a05438d81f2d957a44ee49b",
            "a85b19b2ef44448ab708a2235959fa9d",
            "bb0d582565d94c79b9ffcc94f7cba87f",
            "362f14d2d89847fbaf85aa2ae658462a",
            "0ec5af9a9c41459ba98dc32b1b303843"
          ]
        }
      },
      "outputs": [
        {
          "output_type": "display_data",
          "data": {
            "text/plain": [
              "Temperature sweep around Tc:   0%|          | 0/32 [00:00<?, ?it/s]"
            ],
            "application/vnd.jupyter.widget-view+json": {
              "version_major": 2,
              "version_minor": 0,
              "model_id": "4443df3ee57c4b8d87ee152006ec15f8"
            }
          },
          "metadata": {}
        }
      ],
      "source": [
        "Ts = np.linspace(1.5, 3.5, 32)  # Temperature grid\n",
        "N = 8                           # Grid size\n",
        "Lattices = []\n",
        "\n",
        "# Generate samples\n",
        "for T in tqdm(Ts, desc='Temperature sweep around Tc', leave=True):\n",
        "    Lattices.append(IsingLattice(T=T, N=N))"
      ]
    },
    {
      "cell_type": "code",
      "execution_count": 11,
      "id": "f567118d-d69b-4e66-8c90-6f60af8fd00d",
      "metadata": {
        "collapsed": true,
        "jupyter": {
          "outputs_hidden": true
        },
        "tags": [],
        "id": "f567118d-d69b-4e66-8c90-6f60af8fd00d",
        "outputId": "ec5bf7a4-1a78-4e05-d390-cd061c09b673",
        "colab": {
          "base_uri": "https://localhost:8080/",
          "height": 488,
          "referenced_widgets": [
            "b8c39fdb8b2d4809a557a3b3acfe0002",
            "b76e53bea5b64757a45a2caecafd7ee1",
            "22e66d3ef74a4f44a55b339ab6f1286c",
            "6cda5d2da7d449fab314c3602cb166e8",
            "36283909e10d46ccb387c0982d3fef1c",
            "152f4774215342bfa1453d0dafb0da0e",
            "d9bbbfbfdd9b494c8afd502d9e9dced5",
            "d46259e11c8544b5a4c3640a8befc495",
            "45c6972bb58a491f8cecc3dd58341b25",
            "2b49f021ab32479c8c0ba5d1dc9a0677",
            "682c0c3e15b049e2953b8eabec631e56"
          ]
        }
      },
      "outputs": [
        {
          "output_type": "display_data",
          "data": {
            "text/plain": [
              "0it [00:00, ?it/s]"
            ],
            "application/vnd.jupyter.widget-view+json": {
              "version_major": 2,
              "version_minor": 0,
              "model_id": "b8c39fdb8b2d4809a557a3b3acfe0002"
            }
          },
          "metadata": {}
        },
        {
          "output_type": "display_data",
          "data": {
            "text/plain": [
              "<Figure size 864x504 with 32 Axes>"
            ],
            "image/png": "[encoded data removed]"
          },
          "metadata": {
            "needs_background": "light"
          }
        }
      ],
      "source": [
        "f = plt.figure(figsize=(12, 7)); # To visulaize equilibriated lattices\n",
        "plt.suptitle('Monte Carlo Equilibriated Samples' , fontsize=15)\n",
        "\n",
        "for i,L in tqdm(enumerate(Lattices)):\n",
        "    f.add_subplot(4,8,i+1);\n",
        "    plt.imshow(L.state0, cmap='binary')\n",
        "    plt.axis('off')\n",
        "    plt.title('T = %s'%(np.round(L.T,2)))\n",
        "    \n",
        "plt.savefig('Monte_Carlo_Equilibriated_Lattices.jpg', dpi =120, bbox_inches='tight')"
      ]
    },
    {
      "cell_type": "code",
      "execution_count": 12,
      "id": "1250319f-2c8a-4fcf-8014-a39f331a45a5",
      "metadata": {
        "tags": [],
        "id": "1250319f-2c8a-4fcf-8014-a39f331a45a5"
      },
      "outputs": [],
      "source": [
        "# Final results\n",
        "\n",
        "Es_mean = np.array([np.mean(L.samples['Es']) for L in Lattices])/N**2\n",
        "Es_std = np.array([np.std(L.samples['Es']) for L in Lattices])/N**2\n",
        "\n",
        "Ms_mean = np.array([np.mean(L.samples['Ms']) for L in Lattices])/N**2\n",
        "Ms_std = np.array([np.std(L.samples['Ms']) for L in Lattices])/N**2\n",
        "\n",
        "Cs = [L.samples['Es'].var()/(T1**2 * N**2) for L, T1 in zip(Lattices, Ts)]\n",
        "\n",
        "Xs = [L.samples['Ms'].var()/(T1 * N**2) for L, T1 in zip(Lattices, Ts)]"
      ]
    },
    {
      "cell_type": "code",
      "execution_count": 15,
      "id": "f45d40e9-baef-427c-b9ca-e2e5c8c82028",
      "metadata": {
        "tags": [],
        "id": "f45d40e9-baef-427c-b9ca-e2e5c8c82028",
        "outputId": "f5bb0302-e9f8-4703-e161-9a41a1337eec",
        "colab": {
          "base_uri": "https://localhost:8080/",
          "height": 236
        }
      },
      "outputs": [
        {
          "output_type": "display_data",
          "data": {
            "text/plain": [
              "<Figure size 1440x216 with 4 Axes>"
            ],
            "image/png": "[encoded data removed]"
          },
          "metadata": {
            "needs_background": "light"
          }
        }
      ],
      "source": [
        "f = plt.figure(figsize=(20, 3)); #  \n",
        "plt.suptitle(' Monte Carlo Simulation Results ', fontsize=20,\n",
        "            y=1.1)\n",
        "\n",
        "f.add_subplot(1,4,1);\n",
        "\n",
        "plt.errorbar(Ts, Es_mean, yerr=Es_std, c='k', elinewidth=1, alpha=0.3, ls='none')\n",
        "plt.axvline(x=Tc, c='k', linewidth=1, linestyle='--')\n",
        "plt.annotate(r'$T = T_c$', xy=(Tc+0.05,np.min(Es_mean-Es_std)), fontsize=15);\n",
        "\n",
        "plt.scatter(Ts, Es_mean, s=5, c='k')\n",
        "plt.xlabel(r'$T$')\n",
        "plt.ylabel(r'$\\langle E \\rangle$')\n",
        "\n",
        "plt.title('Energy');\n",
        "\n",
        "f.add_subplot(1,4,2);\n",
        "\n",
        "plt.errorbar(Ts, Ms_mean, yerr=Ms_std, c='k', elinewidth=1, alpha=0.3, ls='none')\n",
        "plt.axvline(x=Tc, c='k', linewidth=1, linestyle='--')\n",
        "plt.annotate(r'$T = T_c$', xy=(Tc+0.05,np.min(Ms_mean-Ms_std)), fontsize=15);\n",
        "\n",
        "plt.scatter(Ts, Ms_mean, s=5, c='k')\n",
        "plt.xlabel(r'$T$')\n",
        "plt.ylabel(r'$\\langle M \\rangle$')\n",
        "\n",
        "plt.title('Magnetization');\n",
        "\n",
        "f.add_subplot(1,4,3);\n",
        "\n",
        "plt.scatter(Ts, Cs, s=5, c='k')\n",
        "plt.xlabel(r'$T$')\n",
        "plt.ylabel(r'$\\langle C \\rangle$')\n",
        "\n",
        "plt.axvline(x=Tc, c='k', linewidth=1, linestyle='--')\n",
        "plt.annotate(r'$T = T_c$', xy=(Tc+0.05,np.min(Cs)), fontsize=15);\n",
        "\n",
        "plt.title('Specific Heat Capacity');\n",
        "\n",
        "f.add_subplot(1,4,4);\n",
        "\n",
        "plt.scatter(Ts, Xs, s=5, c='k')\n",
        "plt.xlabel(r'$T$')\n",
        "plt.ylabel(r'$\\langle \\chi \\rangle$')\n",
        "\n",
        "plt.axvline(x=Tc, c='k', linewidth=1, linestyle='--')\n",
        "plt.annotate(r'$T = T_c$', xy=(Tc+0.05,np.min(Xs)), fontsize=15);\n",
        "\n",
        "plt.title('Magnetic Susceptibility');\n",
        "\n",
        "plt.savefig('Monte_Carlo_Results.jpg', dpi=120,\n",
        "            bbox_inches='tight')"
      ]
    }
  ],
  "metadata": {
    "kernelspec": {
      "display_name": "Python 3 (ipykernel)",
      "language": "python",
      "name": "python3"
    },
    "language_info": {
      "codemirror_mode": {
        "name": "ipython",
        "version": 3
      },
      "file_extension": ".py",
      "mimetype": "text/x-python",
      "name": "python",
      "nbconvert_exporter": "python",
      "pygments_lexer": "ipython3",
      "version": "3.8.8"
    },
    "toc-autonumbering": false,
    "toc-showmarkdowntxt": false,
    "colab": {
      "provenance": []
    },
    "widgets": {
      "application/vnd.jupyter.widget-state+json": {
        "4443df3ee57c4b8d87ee152006ec15f8": {
          "model_module": "@jupyter-widgets/controls",
          "model_name": "HBoxModel",
          "model_module_version": "1.5.0",
          "state": {
            "_dom_classes": [],
            "_model_module": "@jupyter-widgets/controls",
            "_model_module_version": "1.5.0",
            "_model_name": "HBoxModel",
            "_view_count": null,
            "_view_module": "@jupyter-widgets/controls",
            "_view_module_version": "1.5.0",
            "_view_name": "HBoxView",
            "box_style": "",
            "children": [
              "IPY_MODEL_24aee59d817f4be497fc0dd2e0a63c3e",
              "IPY_MODEL_2f4723de4bae47d8a86232dbabf73a85",
              "IPY_MODEL_1275a1b2c0d64d94847522f3351d7a8c"
            ],
            "layout": "IPY_MODEL_468653191ca042c28fc96bce4c3503f2"
          }
        },
        "24aee59d817f4be497fc0dd2e0a63c3e": {
          "model_module": "@jupyter-widgets/controls",
          "model_name": "HTMLModel",
          "model_module_version": "1.5.0",
          "state": {
            "_dom_classes": [],
            "_model_module": "@jupyter-widgets/controls",
            "_model_module_version": "1.5.0",
            "_model_name": "HTMLModel",
            "_view_count": null,
            "_view_module": "@jupyter-widgets/controls",
            "_view_module_version": "1.5.0",
            "_view_name": "HTMLView",
            "description": "",
            "description_tooltip": null,
            "layout": "IPY_MODEL_ed77de9948a54a92a18eb8a2d9f96b6e",
            "placeholder": "​",
            "style": "IPY_MODEL_7927026b7a05438d81f2d957a44ee49b",
            "value": "Temperature sweep around Tc: 100%"
          }
        },
        "2f4723de4bae47d8a86232dbabf73a85": {
          "model_module": "@jupyter-widgets/controls",
          "model_name": "FloatProgressModel",
          "model_module_version": "1.5.0",
          "state": {
            "_dom_classes": [],
            "_model_module": "@jupyter-widgets/controls",
            "_model_module_version": "1.5.0",
            "_model_name": "FloatProgressModel",
            "_view_count": null,
            "_view_module": "@jupyter-widgets/controls",
            "_view_module_version": "1.5.0",
            "_view_name": "ProgressView",
            "bar_style": "success",
            "description": "",
            "description_tooltip": null,
            "layout": "IPY_MODEL_a85b19b2ef44448ab708a2235959fa9d",
            "max": 32,
            "min": 0,
            "orientation": "horizontal",
            "style": "IPY_MODEL_bb0d582565d94c79b9ffcc94f7cba87f",
            "value": 32
          }
        },
        "1275a1b2c0d64d94847522f3351d7a8c": {
          "model_module": "@jupyter-widgets/controls",
          "model_name": "HTMLModel",
          "model_module_version": "1.5.0",
          "state": {
            "_dom_classes": [],
            "_model_module": "@jupyter-widgets/controls",
            "_model_module_version": "1.5.0",
            "_model_name": "HTMLModel",
            "_view_count": null,
            "_view_module": "@jupyter-widgets/controls",
            "_view_module_version": "1.5.0",
            "_view_name": "HTMLView",
            "description": "",
            "description_tooltip": null,
            "layout": "IPY_MODEL_362f14d2d89847fbaf85aa2ae658462a",
            "placeholder": "​",
            "style": "IPY_MODEL_0ec5af9a9c41459ba98dc32b1b303843",
            "value": " 32/32 [00:03&lt;00:00, 15.37it/s]"
          }
        },
        "468653191ca042c28fc96bce4c3503f2": {
          "model_module": "@jupyter-widgets/base",
          "model_name": "LayoutModel",
          "model_module_version": "1.2.0",
          "state": {
            "_model_module": "@jupyter-widgets/base",
            "_model_module_version": "1.2.0",
            "_model_name": "LayoutModel",
            "_view_count": null,
            "_view_module": "@jupyter-widgets/base",
            "_view_module_version": "1.2.0",
            "_view_name": "LayoutView",
            "align_content": null,
            "align_items": null,
            "align_self": null,
            "border": null,
            "bottom": null,
            "display": null,
            "flex": null,
            "flex_flow": null,
            "grid_area": null,
            "grid_auto_columns": null,
            "grid_auto_flow": null,
            "grid_auto_rows": null,
            "grid_column": null,
            "grid_gap": null,
            "grid_row": null,
            "grid_template_areas": null,
            "grid_template_columns": null,
            "grid_template_rows": null,
            "height": null,
            "justify_content": null,
            "justify_items": null,
            "left": null,
            "margin": null,
            "max_height": null,
            "max_width": null,
            "min_height": null,
            "min_width": null,
            "object_fit": null,
            "object_position": null,
            "order": null,
            "overflow": null,
            "overflow_x": null,
            "overflow_y": null,
            "padding": null,
            "right": null,
            "top": null,
            "visibility": null,
            "width": null
          }
        },
        "ed77de9948a54a92a18eb8a2d9f96b6e": {
          "model_module": "@jupyter-widgets/base",
          "model_name": "LayoutModel",
          "model_module_version": "1.2.0",
          "state": {
            "_model_module": "@jupyter-widgets/base",
            "_model_module_version": "1.2.0",
            "_model_name": "LayoutModel",
            "_view_count": null,
            "_view_module": "@jupyter-widgets/base",
            "_view_module_version": "1.2.0",
            "_view_name": "LayoutView",
            "align_content": null,
            "align_items": null,
            "align_self": null,
            "border": null,
            "bottom": null,
            "display": null,
            "flex": null,
            "flex_flow": null,
            "grid_area": null,
            "grid_auto_columns": null,
            "grid_auto_flow": null,
            "grid_auto_rows": null,
            "grid_column": null,
            "grid_gap": null,
            "grid_row": null,
            "grid_template_areas": null,
            "grid_template_columns": null,
            "grid_template_rows": null,
            "height": null,
            "justify_content": null,
            "justify_items": null,
            "left": null,
            "margin": null,
            "max_height": null,
            "max_width": null,
            "min_height": null,
            "min_width": null,
            "object_fit": null,
            "object_position": null,
            "order": null,
            "overflow": null,
            "overflow_x": null,
            "overflow_y": null,
            "padding": null,
            "right": null,
            "top": null,
            "visibility": null,
            "width": null
          }
        },
        "7927026b7a05438d81f2d957a44ee49b": {
          "model_module": "@jupyter-widgets/controls",
          "model_name": "DescriptionStyleModel",
          "model_module_version": "1.5.0",
          "state": {
            "_model_module": "@jupyter-widgets/controls",
            "_model_module_version": "1.5.0",
            "_model_name": "DescriptionStyleModel",
            "_view_count": null,
            "_view_module": "@jupyter-widgets/base",
            "_view_module_version": "1.2.0",
            "_view_name": "StyleView",
            "description_width": ""
          }
        },
        "a85b19b2ef44448ab708a2235959fa9d": {
          "model_module": "@jupyter-widgets/base",
          "model_name": "LayoutModel",
          "model_module_version": "1.2.0",
          "state": {
            "_model_module": "@jupyter-widgets/base",
            "_model_module_version": "1.2.0",
            "_model_name": "LayoutModel",
            "_view_count": null,
            "_view_module": "@jupyter-widgets/base",
            "_view_module_version": "1.2.0",
            "_view_name": "LayoutView",
            "align_content": null,
            "align_items": null,
            "align_self": null,
            "border": null,
            "bottom": null,
            "display": null,
            "flex": null,
            "flex_flow": null,
            "grid_area": null,
            "grid_auto_columns": null,
            "grid_auto_flow": null,
            "grid_auto_rows": null,
            "grid_column": null,
            "grid_gap": null,
            "grid_row": null,
            "grid_template_areas": null,
            "grid_template_columns": null,
            "grid_template_rows": null,
            "height": null,
            "justify_content": null,
            "justify_items": null,
            "left": null,
            "margin": null,
            "max_height": null,
            "max_width": null,
            "min_height": null,
            "min_width": null,
            "object_fit": null,
            "object_position": null,
            "order": null,
            "overflow": null,
            "overflow_x": null,
            "overflow_y": null,
            "padding": null,
            "right": null,
            "top": null,
            "visibility": null,
            "width": null
          }
        },
        "bb0d582565d94c79b9ffcc94f7cba87f": {
          "model_module": "@jupyter-widgets/controls",
          "model_name": "ProgressStyleModel",
          "model_module_version": "1.5.0",
          "state": {
            "_model_module": "@jupyter-widgets/controls",
            "_model_module_version": "1.5.0",
            "_model_name": "ProgressStyleModel",
            "_view_count": null,
            "_view_module": "@jupyter-widgets/base",
            "_view_module_version": "1.2.0",
            "_view_name": "StyleView",
            "bar_color": null,
            "description_width": ""
          }
        },
        "362f14d2d89847fbaf85aa2ae658462a": {
          "model_module": "@jupyter-widgets/base",
          "model_name": "LayoutModel",
          "model_module_version": "1.2.0",
          "state": {
            "_model_module": "@jupyter-widgets/base",
            "_model_module_version": "1.2.0",
            "_model_name": "LayoutModel",
            "_view_count": null,
            "_view_module": "@jupyter-widgets/base",
            "_view_module_version": "1.2.0",
            "_view_name": "LayoutView",
            "align_content": null,
            "align_items": null,
            "align_self": null,
            "border": null,
            "bottom": null,
            "display": null,
            "flex": null,
            "flex_flow": null,
            "grid_area": null,
            "grid_auto_columns": null,
            "grid_auto_flow": null,
            "grid_auto_rows": null,
            "grid_column": null,
            "grid_gap": null,
            "grid_row": null,
            "grid_template_areas": null,
            "grid_template_columns": null,
            "grid_template_rows": null,
            "height": null,
            "justify_content": null,
            "justify_items": null,
            "left": null,
            "margin": null,
            "max_height": null,
            "max_width": null,
            "min_height": null,
            "min_width": null,
            "object_fit": null,
            "object_position": null,
            "order": null,
            "overflow": null,
            "overflow_x": null,
            "overflow_y": null,
            "padding": null,
            "right": null,
            "top": null,
            "visibility": null,
            "width": null
          }
        },
        "0ec5af9a9c41459ba98dc32b1b303843": {
          "model_module": "@jupyter-widgets/controls",
          "model_name": "DescriptionStyleModel",
          "model_module_version": "1.5.0",
          "state": {
            "_model_module": "@jupyter-widgets/controls",
            "_model_module_version": "1.5.0",
            "_model_name": "DescriptionStyleModel",
            "_view_count": null,
            "_view_module": "@jupyter-widgets/base",
            "_view_module_version": "1.2.0",
            "_view_name": "StyleView",
            "description_width": ""
          }
        },
        "b8c39fdb8b2d4809a557a3b3acfe0002": {
          "model_module": "@jupyter-widgets/controls",
          "model_name": "HBoxModel",
          "model_module_version": "1.5.0",
          "state": {
            "_dom_classes": [],
            "_model_module": "@jupyter-widgets/controls",
            "_model_module_version": "1.5.0",
            "_model_name": "HBoxModel",
            "_view_count": null,
            "_view_module": "@jupyter-widgets/controls",
            "_view_module_version": "1.5.0",
            "_view_name": "HBoxView",
            "box_style": "",
            "children": [
              "IPY_MODEL_b76e53bea5b64757a45a2caecafd7ee1",
              "IPY_MODEL_22e66d3ef74a4f44a55b339ab6f1286c",
              "IPY_MODEL_6cda5d2da7d449fab314c3602cb166e8"
            ],
            "layout": "IPY_MODEL_36283909e10d46ccb387c0982d3fef1c"
          }
        },
        "b76e53bea5b64757a45a2caecafd7ee1": {
          "model_module": "@jupyter-widgets/controls",
          "model_name": "HTMLModel",
          "model_module_version": "1.5.0",
          "state": {
            "_dom_classes": [],
            "_model_module": "@jupyter-widgets/controls",
            "_model_module_version": "1.5.0",
            "_model_name": "HTMLModel",
            "_view_count": null,
            "_view_module": "@jupyter-widgets/controls",
            "_view_module_version": "1.5.0",
            "_view_name": "HTMLView",
            "description": "",
            "description_tooltip": null,
            "layout": "IPY_MODEL_152f4774215342bfa1453d0dafb0da0e",
            "placeholder": "​",
            "style": "IPY_MODEL_d9bbbfbfdd9b494c8afd502d9e9dced5",
            "value": ""
          }
        },
        "22e66d3ef74a4f44a55b339ab6f1286c": {
          "model_module": "@jupyter-widgets/controls",
          "model_name": "FloatProgressModel",
          "model_module_version": "1.5.0",
          "state": {
            "_dom_classes": [],
            "_model_module": "@jupyter-widgets/controls",
            "_model_module_version": "1.5.0",
            "_model_name": "FloatProgressModel",
            "_view_count": null,
            "_view_module": "@jupyter-widgets/controls",
            "_view_module_version": "1.5.0",
            "_view_name": "ProgressView",
            "bar_style": "success",
            "description": "",
            "description_tooltip": null,
            "layout": "IPY_MODEL_d46259e11c8544b5a4c3640a8befc495",
            "max": 1,
            "min": 0,
            "orientation": "horizontal",
            "style": "IPY_MODEL_45c6972bb58a491f8cecc3dd58341b25",
            "value": 1
          }
        },
        "6cda5d2da7d449fab314c3602cb166e8": {
          "model_module": "@jupyter-widgets/controls",
          "model_name": "HTMLModel",
          "model_module_version": "1.5.0",
          "state": {
            "_dom_classes": [],
            "_model_module": "@jupyter-widgets/controls",
            "_model_module_version": "1.5.0",
            "_model_name": "HTMLModel",
            "_view_count": null,
            "_view_module": "@jupyter-widgets/controls",
            "_view_module_version": "1.5.0",
            "_view_name": "HTMLView",
            "description": "",
            "description_tooltip": null,
            "layout": "IPY_MODEL_2b49f021ab32479c8c0ba5d1dc9a0677",
            "placeholder": "​",
            "style": "IPY_MODEL_682c0c3e15b049e2953b8eabec631e56",
            "value": " 32/? [00:00&lt;00:00, 80.60it/s]"
          }
        },
        "36283909e10d46ccb387c0982d3fef1c": {
          "model_module": "@jupyter-widgets/base",
          "model_name": "LayoutModel",
          "model_module_version": "1.2.0",
          "state": {
            "_model_module": "@jupyter-widgets/base",
            "_model_module_version": "1.2.0",
            "_model_name": "LayoutModel",
            "_view_count": null,
            "_view_module": "@jupyter-widgets/base",
            "_view_module_version": "1.2.0",
            "_view_name": "LayoutView",
            "align_content": null,
            "align_items": null,
            "align_self": null,
            "border": null,
            "bottom": null,
            "display": null,
            "flex": null,
            "flex_flow": null,
            "grid_area": null,
            "grid_auto_columns": null,
            "grid_auto_flow": null,
            "grid_auto_rows": null,
            "grid_column": null,
            "grid_gap": null,
            "grid_row": null,
            "grid_template_areas": null,
            "grid_template_columns": null,
            "grid_template_rows": null,
            "height": null,
            "justify_content": null,
            "justify_items": null,
            "left": null,
            "margin": null,
            "max_height": null,
            "max_width": null,
            "min_height": null,
            "min_width": null,
            "object_fit": null,
            "object_position": null,
            "order": null,
            "overflow": null,
            "overflow_x": null,
            "overflow_y": null,
            "padding": null,
            "right": null,
            "top": null,
            "visibility": null,
            "width": null
          }
        },
        "152f4774215342bfa1453d0dafb0da0e": {
          "model_module": "@jupyter-widgets/base",
          "model_name": "LayoutModel",
          "model_module_version": "1.2.0",
          "state": {
            "_model_module": "@jupyter-widgets/base",
            "_model_module_version": "1.2.0",
            "_model_name": "LayoutModel",
            "_view_count": null,
            "_view_module": "@jupyter-widgets/base",
            "_view_module_version": "1.2.0",
            "_view_name": "LayoutView",
            "align_content": null,
            "align_items": null,
            "align_self": null,
            "border": null,
            "bottom": null,
            "display": null,
            "flex": null,
            "flex_flow": null,
            "grid_area": null,
            "grid_auto_columns": null,
            "grid_auto_flow": null,
            "grid_auto_rows": null,
            "grid_column": null,
            "grid_gap": null,
            "grid_row": null,
            "grid_template_areas": null,
            "grid_template_columns": null,
            "grid_template_rows": null,
            "height": null,
            "justify_content": null,
            "justify_items": null,
            "left": null,
            "margin": null,
            "max_height": null,
            "max_width": null,
            "min_height": null,
            "min_width": null,
            "object_fit": null,
            "object_position": null,
            "order": null,
            "overflow": null,
            "overflow_x": null,
            "overflow_y": null,
            "padding": null,
            "right": null,
            "top": null,
            "visibility": null,
            "width": null
          }
        },
        "d9bbbfbfdd9b494c8afd502d9e9dced5": {
          "model_module": "@jupyter-widgets/controls",
          "model_name": "DescriptionStyleModel",
          "model_module_version": "1.5.0",
          "state": {
            "_model_module": "@jupyter-widgets/controls",
            "_model_module_version": "1.5.0",
            "_model_name": "DescriptionStyleModel",
            "_view_count": null,
            "_view_module": "@jupyter-widgets/base",
            "_view_module_version": "1.2.0",
            "_view_name": "StyleView",
            "description_width": ""
          }
        },
        "d46259e11c8544b5a4c3640a8befc495": {
          "model_module": "@jupyter-widgets/base",
          "model_name": "LayoutModel",
          "model_module_version": "1.2.0",
          "state": {
            "_model_module": "@jupyter-widgets/base",
            "_model_module_version": "1.2.0",
            "_model_name": "LayoutModel",
            "_view_count": null,
            "_view_module": "@jupyter-widgets/base",
            "_view_module_version": "1.2.0",
            "_view_name": "LayoutView",
            "align_content": null,
            "align_items": null,
            "align_self": null,
            "border": null,
            "bottom": null,
            "display": null,
            "flex": null,
            "flex_flow": null,
            "grid_area": null,
            "grid_auto_columns": null,
            "grid_auto_flow": null,
            "grid_auto_rows": null,
            "grid_column": null,
            "grid_gap": null,
            "grid_row": null,
            "grid_template_areas": null,
            "grid_template_columns": null,
            "grid_template_rows": null,
            "height": null,
            "justify_content": null,
            "justify_items": null,
            "left": null,
            "margin": null,
            "max_height": null,
            "max_width": null,
            "min_height": null,
            "min_width": null,
            "object_fit": null,
            "object_position": null,
            "order": null,
            "overflow": null,
            "overflow_x": null,
            "overflow_y": null,
            "padding": null,
            "right": null,
            "top": null,
            "visibility": null,
            "width": "20px"
          }
        },
        "45c6972bb58a491f8cecc3dd58341b25": {
          "model_module": "@jupyter-widgets/controls",
          "model_name": "ProgressStyleModel",
          "model_module_version": "1.5.0",
          "state": {
            "_model_module": "@jupyter-widgets/controls",
            "_model_module_version": "1.5.0",
            "_model_name": "ProgressStyleModel",
            "_view_count": null,
            "_view_module": "@jupyter-widgets/base",
            "_view_module_version": "1.2.0",
            "_view_name": "StyleView",
            "bar_color": null,
            "description_width": ""
          }
        },
        "2b49f021ab32479c8c0ba5d1dc9a0677": {
          "model_module": "@jupyter-widgets/base",
          "model_name": "LayoutModel",
          "model_module_version": "1.2.0",
          "state": {
            "_model_module": "@jupyter-widgets/base",
            "_model_module_version": "1.2.0",
            "_model_name": "LayoutModel",
            "_view_count": null,
            "_view_module": "@jupyter-widgets/base",
            "_view_module_version": "1.2.0",
            "_view_name": "LayoutView",
            "align_content": null,
            "align_items": null,
            "align_self": null,
            "border": null,
            "bottom": null,
            "display": null,
            "flex": null,
            "flex_flow": null,
            "grid_area": null,
            "grid_auto_columns": null,
            "grid_auto_flow": null,
            "grid_auto_rows": null,
            "grid_column": null,
            "grid_gap": null,
            "grid_row": null,
            "grid_template_areas": null,
            "grid_template_columns": null,
            "grid_template_rows": null,
            "height": null,
            "justify_content": null,
            "justify_items": null,
            "left": null,
            "margin": null,
            "max_height": null,
            "max_width": null,
            "min_height": null,
            "min_width": null,
            "object_fit": null,
            "object_position": null,
            "order": null,
            "overflow": null,
            "overflow_x": null,
            "overflow_y": null,
            "padding": null,
            "right": null,
            "top": null,
            "visibility": null,
            "width": null
          }
        },
        "682c0c3e15b049e2953b8eabec631e56": {
          "model_module": "@jupyter-widgets/controls",
          "model_name": "DescriptionStyleModel",
          "model_module_version": "1.5.0",
          "state": {
            "_model_module": "@jupyter-widgets/controls",
            "_model_module_version": "1.5.0",
            "_model_name": "DescriptionStyleModel",
            "_view_count": null,
            "_view_module": "@jupyter-widgets/base",
            "_view_module_version": "1.2.0",
            "_view_name": "StyleView",
            "description_width": ""
          }
        }
      }
    }
  },
  "nbformat": 4,
  "nbformat_minor": 5
}